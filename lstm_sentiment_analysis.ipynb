{
  "nbformat": 4,
  "nbformat_minor": 0,
  "metadata": {
    "colab": {
      "provenance": [],
      "gpuType": "T4"
    },
    "kernelspec": {
      "name": "python3",
      "display_name": "Python 3"
    },
    "language_info": {
      "name": "python"
    },
    "accelerator": "GPU"
  },
  "cells": [
    {
      "cell_type": "code",
      "execution_count": null,
      "metadata": {
        "colab": {
          "base_uri": "https://localhost:8080/"
        },
        "id": "HuuBnZfSw0vS",
        "outputId": "17b2a86c-69d6-4534-ec58-d640b874b1a3"
      },
      "outputs": [
        {
          "output_type": "stream",
          "name": "stderr",
          "text": [
            "[nltk_data] Downloading package punkt to /root/nltk_data...\n",
            "[nltk_data]   Unzipping tokenizers/punkt.zip.\n",
            "[nltk_data] Downloading package punkt_tab to /root/nltk_data...\n",
            "[nltk_data]   Unzipping tokenizers/punkt_tab.zip.\n"
          ]
        },
        {
          "output_type": "execute_result",
          "data": {
            "text/plain": [
              "True"
            ]
          },
          "metadata": {},
          "execution_count": 1
        }
      ],
      "source": [
        "import pandas as pd\n",
        "import numpy as np\n",
        "import torch\n",
        "import nltk\n",
        "import seaborn as sns\n",
        "import matplotlib.pyplot as plt\n",
        "import torch.nn as nn\n",
        "from torch.utils.data import Dataset, DataLoader\n",
        "import torch.optim as optim\n",
        "from sklearn.preprocessing import LabelEncoder\n",
        "from sklearn.model_selection import train_test_split\n",
        "from sklearn.metrics import classification_report, confusion_matrix\n",
        "from sklearn.metrics import accuracy_score, f1_score\n",
        "from sklearn.utils import shuffle\n",
        "from nltk.tokenize import word_tokenize\n",
        "from collections import Counter\n",
        "nltk.download('punkt')\n",
        "nltk.download('punkt_tab')"
      ]
    },
    {
      "cell_type": "code",
      "source": [
        "import kagglehub\n",
        "path = kagglehub.dataset_download(\"nelgiriyewithana/emotions\")\n",
        "print(\"Path to dataset files:\", path)\n",
        "\n",
        "df = pd.read_csv('/kaggle/input/emotions/text.csv', skiprows=1, names=[\"id_text\", \"text\", \"label\"])\n",
        "print(df['label'].unique())"
      ],
      "metadata": {
        "colab": {
          "base_uri": "https://localhost:8080/"
        },
        "id": "0xScm5D_xh3G",
        "outputId": "670b6eb2-7258-448f-c3d1-56204db3b6e0"
      },
      "execution_count": null,
      "outputs": [
        {
          "output_type": "stream",
          "name": "stdout",
          "text": [
            "Path to dataset files: /kaggle/input/emotions\n",
            "[4 0 2 1 5 3]\n"
          ]
        }
      ]
    },
    {
      "cell_type": "code",
      "source": [
        "label_encoder = LabelEncoder()\n",
        "df['encoded_label'] = label_encoder.fit_transform(df['label'])\n",
        "df = shuffle(df, random_state=42).reset_index(drop=True)\n",
        "\n",
        "train_df, temp_df = train_test_split(\n",
        "    df, test_size=0.3, stratify=df['encoded_label'], random_state=42\n",
        ")\n",
        "val_df, test_df = train_test_split(\n",
        "    temp_df, test_size=0.5, stratify=temp_df['encoded_label'], random_state=42\n",
        ")\n",
        "\n",
        "def build_vocab(texts, min_freq=2):\n",
        "    counter = Counter()\n",
        "    for text in texts:\n",
        "        tokens = word_tokenize(text.lower())\n",
        "        counter.update(tokens)\n",
        "\n",
        "    vocab = {'<PAD>': 0, '<UNK>': 1}\n",
        "    for word, freq in counter.items():\n",
        "        if freq >= min_freq:\n",
        "            vocab[word] = len(vocab)\n",
        "    return vocab\n",
        "\n",
        "vocab = build_vocab(train_df['text'],min_freq=2)"
      ],
      "metadata": {
        "id": "8IhK8Elnys6E"
      },
      "execution_count": null,
      "outputs": []
    },
    {
      "cell_type": "code",
      "source": [
        "class EmotionDataset(Dataset):\n",
        "    def __init__(self, df, vocab, max_len=50):\n",
        "        self.texts = df['text'].tolist()\n",
        "        self.labels = df['encoded_label'].tolist()\n",
        "        self.vocab = vocab\n",
        "        self.max_len = max_len\n",
        "\n",
        "    def __len__(self):\n",
        "        return len(self.texts)\n",
        "\n",
        "    def __getitem__(self, idx):\n",
        "        tokens = word_tokenize(self.texts[idx].lower())\n",
        "        indices = [self.vocab.get(token, self.vocab['<UNK>']) for token in tokens]\n",
        "        if len(indices) < self.max_len:\n",
        "            indices += [self.vocab['<PAD>']] * (self.max_len - len(indices))\n",
        "        else:\n",
        "            indices = indices[:self.max_len]\n",
        "        return torch.tensor(indices), torch.tensor(self.labels[idx])\n",
        "\n",
        "train_dataset = EmotionDataset(train_df, vocab)\n",
        "val_dataset = EmotionDataset(val_df, vocab)\n",
        "test_dataset = EmotionDataset(test_df, vocab)\n",
        "\n",
        "train_loader = DataLoader(train_dataset, batch_size=32, shuffle=True)\n",
        "val_loader = DataLoader(val_dataset, batch_size=32)\n",
        "test_loader = DataLoader(test_dataset, batch_size=32)"
      ],
      "metadata": {
        "id": "Hh2-GJ8ez6rX"
      },
      "execution_count": null,
      "outputs": []
    },
    {
      "cell_type": "code",
      "source": [
        "class LSTMModel(nn.Module):\n",
        "    def __init__(self, vocab_size, embed_dim, hidden_dim, output_dim):\n",
        "        super(LSTMModel, self).__init__()\n",
        "        self.embedding = nn.Embedding(vocab_size, embed_dim, padding_idx=0)\n",
        "        self.lstm = nn.LSTM(embed_dim, hidden_dim, batch_first=True)\n",
        "        self.fc = nn.Linear(hidden_dim, output_dim)\n",
        "\n",
        "    def forward(self, x):\n",
        "        embeds = self.embedding(x)\n",
        "        _, (hidden, _) = self.lstm(embeds)\n",
        "        out = self.fc(hidden[-1])\n",
        "        return out\n",
        "\n",
        "model = LSTMModel(len(vocab), embed_dim=200, hidden_dim=256, output_dim=len(label_encoder.classes_))"
      ],
      "metadata": {
        "id": "GN4uSouy0I8z"
      },
      "execution_count": null,
      "outputs": []
    },
    {
      "cell_type": "code",
      "source": [
        "def evaluate(model, dataloader, criterion):\n",
        "    model.eval()\n",
        "    total_loss = 0\n",
        "    all_preds, all_labels = [], []\n",
        "    with torch.no_grad():\n",
        "        for inputs, labels in dataloader:\n",
        "            inputs, labels = inputs.to(device), labels.to(device)\n",
        "            outputs = model(inputs)\n",
        "            loss = criterion(outputs, labels)\n",
        "            total_loss += loss.item()\n",
        "\n",
        "            preds = torch.argmax(outputs, dim=1)\n",
        "            all_preds.extend(preds.cpu().numpy())\n",
        "            all_labels.extend(labels.cpu().numpy())\n",
        "\n",
        "    avg_loss = total_loss / len(dataloader)\n",
        "    acc = accuracy_score(all_labels, all_preds)\n",
        "    f1 = f1_score(all_labels, all_preds, average='macro')\n",
        "    return avg_loss, acc, f1"
      ],
      "metadata": {
        "id": "3pLh-GT_ckTR"
      },
      "execution_count": null,
      "outputs": []
    },
    {
      "cell_type": "code",
      "source": [
        "device = torch.device(\"cuda\" if torch.cuda.is_available() else \"cpu\")\n",
        "model = model.to(device)\n",
        "\n",
        "criterion = nn.CrossEntropyLoss()\n",
        "optimizer = optim.Adam(model.parameters(), lr=0.001)\n",
        "\n",
        "\n",
        "for epoch in range(30):\n",
        "    model.train()\n",
        "    total_train_loss = 0\n",
        "    all_train_preds, all_train_labels = [], []\n",
        "\n",
        "    for inputs, labels in train_loader:\n",
        "        inputs, labels = inputs.to(device), labels.to(device)\n",
        "\n",
        "        optimizer.zero_grad()\n",
        "        outputs = model(inputs)\n",
        "        loss = criterion(outputs, labels)\n",
        "        loss.backward()\n",
        "        optimizer.step()\n",
        "\n",
        "        total_train_loss += loss.item()\n",
        "\n",
        "        preds = torch.argmax(outputs, dim=1)\n",
        "        all_train_preds.extend(preds.cpu().numpy())\n",
        "        all_train_labels.extend(labels.cpu().numpy())\n",
        "\n",
        "    train_acc = (np.array(all_train_preds) == np.array(all_train_labels)).mean()\n",
        "    train_f1 = f1_score(all_train_labels, all_train_preds, average='macro')\n",
        "    avg_train_loss = total_train_loss / len(train_loader)\n",
        "\n",
        "    val_loss, val_acc, val_f1 = evaluate(model, val_loader, criterion)\n",
        "\n",
        "    print(f\"Epoch {epoch+1}: \"\n",
        "          f\"Train Loss: {avg_train_loss:.4f}, Train Acc: {train_acc:.4f}, Train F1: {train_f1:.4f} | \"\n",
        "          f\"Val Loss: {val_loss:.4f}, Val Acc: {val_acc:.4f}, Val F1: {val_f1:.4f}\")"
      ],
      "metadata": {
        "id": "3XQPB6Wn0RNR",
        "colab": {
          "base_uri": "https://localhost:8080/"
        },
        "outputId": "80ff268a-c56c-4858-a52d-826e6638078c"
      },
      "execution_count": null,
      "outputs": [
        {
          "output_type": "stream",
          "name": "stdout",
          "text": [
            "Epoch 1: Train Loss: 1.5753, Train Acc: 0.3371, Train F1: 0.0903 | Val Loss: 1.5745, Val Acc: 0.3380, Val F1: 0.0850\n",
            "Epoch 2: Train Loss: 1.5713, Train Acc: 0.3403, Train F1: 0.0933 | Val Loss: 1.4446, Val Acc: 0.4656, Val F1: 0.2004\n",
            "Epoch 3: Train Loss: 0.2488, Train Acc: 0.8903, Train F1: 0.8430 | Val Loss: 0.1096, Val Acc: 0.9338, Val F1: 0.9031\n",
            "Epoch 4: Train Loss: 0.0991, Train Acc: 0.9384, Train F1: 0.9063 | Val Loss: 0.1022, Val Acc: 0.9367, Val F1: 0.9008\n",
            "Epoch 5: Train Loss: 0.0926, Train Acc: 0.9400, Train F1: 0.9075 | Val Loss: 0.1022, Val Acc: 0.9358, Val F1: 0.9014\n",
            "Epoch 6: Train Loss: 0.0887, Train Acc: 0.9418, Train F1: 0.9097 | Val Loss: 0.1043, Val Acc: 0.9350, Val F1: 0.8979\n",
            "Epoch 7: Train Loss: 0.0863, Train Acc: 0.9429, Train F1: 0.9110 | Val Loss: 0.1029, Val Acc: 0.9336, Val F1: 0.9033\n",
            "Epoch 8: Train Loss: 0.0836, Train Acc: 0.9436, Train F1: 0.9113 | Val Loss: 0.1055, Val Acc: 0.9336, Val F1: 0.8986\n",
            "Epoch 9: Train Loss: 0.0824, Train Acc: 0.9445, Train F1: 0.9128 | Val Loss: 0.1071, Val Acc: 0.9345, Val F1: 0.9065\n",
            "Epoch 10: Train Loss: 0.0810, Train Acc: 0.9455, Train F1: 0.9139 | Val Loss: 0.1103, Val Acc: 0.9340, Val F1: 0.8908\n",
            "Epoch 11: Train Loss: 0.0805, Train Acc: 0.9458, Train F1: 0.9139 | Val Loss: 0.1142, Val Acc: 0.9334, Val F1: 0.8937\n",
            "Epoch 12: Train Loss: 0.0799, Train Acc: 0.9458, Train F1: 0.9140 | Val Loss: 0.1106, Val Acc: 0.9322, Val F1: 0.8959\n",
            "Epoch 13: Train Loss: 0.0792, Train Acc: 0.9468, Train F1: 0.9161 | Val Loss: 0.1181, Val Acc: 0.9326, Val F1: 0.9030\n",
            "Epoch 14: Train Loss: 0.0786, Train Acc: 0.9469, Train F1: 0.9161 | Val Loss: 0.1177, Val Acc: 0.9294, Val F1: 0.8860\n",
            "Epoch 15: Train Loss: 0.0778, Train Acc: 0.9473, Train F1: 0.9172 | Val Loss: 0.1312, Val Acc: 0.9289, Val F1: 0.8935\n",
            "Epoch 16: Train Loss: 0.0772, Train Acc: 0.9484, Train F1: 0.9185 | Val Loss: 0.1266, Val Acc: 0.9271, Val F1: 0.8916\n",
            "Epoch 17: Train Loss: 0.0772, Train Acc: 0.9479, Train F1: 0.9177 | Val Loss: 0.1328, Val Acc: 0.9265, Val F1: 0.8925\n",
            "Epoch 18: Train Loss: 0.0770, Train Acc: 0.9489, Train F1: 0.9192 | Val Loss: 0.1361, Val Acc: 0.9258, Val F1: 0.8880\n",
            "Epoch 19: Train Loss: 0.0763, Train Acc: 0.9489, Train F1: 0.9195 | Val Loss: 0.1383, Val Acc: 0.9282, Val F1: 0.8882\n",
            "Epoch 20: Train Loss: 0.0761, Train Acc: 0.9493, Train F1: 0.9203 | Val Loss: 0.1431, Val Acc: 0.9244, Val F1: 0.8870\n",
            "Epoch 21: Train Loss: 0.0755, Train Acc: 0.9495, Train F1: 0.9202 | Val Loss: 0.1468, Val Acc: 0.9212, Val F1: 0.8808\n",
            "Epoch 22: Train Loss: 0.0757, Train Acc: 0.9496, Train F1: 0.9209 | Val Loss: 0.1520, Val Acc: 0.9253, Val F1: 0.8779\n",
            "Epoch 23: Train Loss: 0.0750, Train Acc: 0.9503, Train F1: 0.9215 | Val Loss: 0.1551, Val Acc: 0.9194, Val F1: 0.8763\n",
            "Epoch 24: Train Loss: 0.0749, Train Acc: 0.9503, Train F1: 0.9218 | Val Loss: 0.1630, Val Acc: 0.9187, Val F1: 0.8757\n",
            "Epoch 25: Train Loss: 0.0745, Train Acc: 0.9506, Train F1: 0.9221 | Val Loss: 0.1665, Val Acc: 0.9216, Val F1: 0.8791\n",
            "Epoch 26: Train Loss: 0.0744, Train Acc: 0.9507, Train F1: 0.9225 | Val Loss: 0.1681, Val Acc: 0.9203, Val F1: 0.8765\n",
            "Epoch 27: Train Loss: 0.0739, Train Acc: 0.9507, Train F1: 0.9226 | Val Loss: 0.1700, Val Acc: 0.9208, Val F1: 0.8842\n",
            "Epoch 28: Train Loss: 0.0736, Train Acc: 0.9511, Train F1: 0.9231 | Val Loss: 0.1792, Val Acc: 0.9211, Val F1: 0.8718\n",
            "Epoch 29: Train Loss: 0.0734, Train Acc: 0.9516, Train F1: 0.9237 | Val Loss: 0.1775, Val Acc: 0.9171, Val F1: 0.8698\n",
            "Epoch 30: Train Loss: 0.0733, Train Acc: 0.9514, Train F1: 0.9238 | Val Loss: 0.1856, Val Acc: 0.9177, Val F1: 0.8730\n"
          ]
        }
      ]
    },
    {
      "cell_type": "code",
      "source": [
        "model.eval()\n",
        "all_preds, all_labels = [], []\n",
        "\n",
        "with torch.no_grad():\n",
        "    for inputs, labels in test_loader:\n",
        "        inputs, labels = inputs.to(device), labels.to(device)\n",
        "        outputs = model(inputs)\n",
        "        preds = torch.argmax(outputs, dim=1)\n",
        "        all_preds.extend(preds.cpu().numpy())\n",
        "        all_labels.extend(labels.cpu().numpy())\n",
        "\n",
        "target_names = [str(label) for label in sorted(test_df['label'].unique())]\n",
        "\n",
        "print(classification_report(all_labels, all_preds, target_names=target_names))"
      ],
      "metadata": {
        "id": "HGk4u8qR0a2U",
        "colab": {
          "base_uri": "https://localhost:8080/"
        },
        "outputId": "c421a278-5dc3-437e-a114-73bb33902ce2"
      },
      "execution_count": null,
      "outputs": [
        {
          "output_type": "stream",
          "name": "stdout",
          "text": [
            "              precision    recall  f1-score   support\n",
            "\n",
            "           0       0.98      0.96      0.97     18178\n",
            "           1       0.94      0.94      0.94     21160\n",
            "           2       0.80      0.79      0.79      5183\n",
            "           3       0.91      0.94      0.93      8598\n",
            "           4       0.85      0.88      0.87      7157\n",
            "           5       0.74      0.71      0.72      2246\n",
            "\n",
            "    accuracy                           0.92     62522\n",
            "   macro avg       0.87      0.87      0.87     62522\n",
            "weighted avg       0.92      0.92      0.92     62522\n",
            "\n"
          ]
        }
      ]
    },
    {
      "cell_type": "code",
      "source": [
        "test_loss, test_acc, test_f1 = evaluate(model, test_loader, criterion)\n",
        "print(f\"Test Loss: {test_loss:.4f}, Accuracy: {test_acc:.4f}, F1-score: {test_f1:.4f}\")"
      ],
      "metadata": {
        "id": "LhE-RdTzb7tC",
        "colab": {
          "base_uri": "https://localhost:8080/"
        },
        "outputId": "7f5b9186-b84d-4f49-ebf2-2881fe09c566"
      },
      "execution_count": 11,
      "outputs": [
        {
          "output_type": "stream",
          "name": "stdout",
          "text": [
            "Test Loss: 0.1892, Accuracy: 0.9174, F1-score: 0.8695\n"
          ]
        }
      ]
    },
    {
      "cell_type": "code",
      "source": [
        "cm = confusion_matrix(all_labels, all_preds)\n",
        "sns.heatmap(cm, annot=True, fmt='d', cmap='Blues')\n",
        "plt.xlabel('Predicted')\n",
        "plt.ylabel('True')\n",
        "plt.show()"
      ],
      "metadata": {
        "colab": {
          "base_uri": "https://localhost:8080/",
          "height": 449
        },
        "id": "EM2lQs8wdJfs",
        "outputId": "772d655a-fa98-4d14-daea-52ec72f203fb"
      },
      "execution_count": null,
      "outputs": [
        {
          "data": {
            "image/png": "[encoded data removed]",
            "text/plain": [
              "<Figure size 640x480 with 2 Axes>"
            ]
          },
          "metadata": {},
          "output_type": "display_data"
        }
      ]
    }
  ]
}